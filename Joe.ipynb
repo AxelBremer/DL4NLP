{
 "cells": [
  {
   "cell_type": "markdown",
   "metadata": {},
   "source": [
    "## Dataloading"
   ]
  },
  {
   "cell_type": "code",
   "execution_count": 7,
   "metadata": {
    "ExecuteTime": {
     "end_time": "2019-09-26T13:50:56.622505Z",
     "start_time": "2019-09-26T13:50:56.606858Z"
    }
   },
   "outputs": [],
   "source": [
    "import pandas as pd\n",
    "import seaborn as sns\n",
    "import matplotlib.pyplot as plt\n",
    "import numpy as np"
   ]
  },
  {
   "cell_type": "markdown",
   "metadata": {},
   "source": [
    "### Load data"
   ]
  },
  {
   "cell_type": "code",
   "execution_count": 18,
   "metadata": {
    "ExecuteTime": {
     "end_time": "2019-09-26T13:58:05.218346Z",
     "start_time": "2019-09-26T13:58:05.171397Z"
    }
   },
   "outputs": [
    {
     "data": {
      "text/html": [
       "<div>\n",
       "<style scoped>\n",
       "    .dataframe tbody tr th:only-of-type {\n",
       "        vertical-align: middle;\n",
       "    }\n",
       "\n",
       "    .dataframe tbody tr th {\n",
       "        vertical-align: top;\n",
       "    }\n",
       "\n",
       "    .dataframe thead th {\n",
       "        text-align: right;\n",
       "    }\n",
       "</style>\n",
       "<table border=\"1\" class=\"dataframe\">\n",
       "  <thead>\n",
       "    <tr style=\"text-align: right;\">\n",
       "      <th></th>\n",
       "      <th>target</th>\n",
       "      <th>mean0</th>\n",
       "      <th>std0</th>\n",
       "      <th>mean1</th>\n",
       "      <th>std1</th>\n",
       "    </tr>\n",
       "  </thead>\n",
       "  <tbody>\n",
       "    <tr>\n",
       "      <th>0</th>\n",
       "      <td>1</td>\n",
       "      <td>0.002673</td>\n",
       "      <td>0.021679</td>\n",
       "      <td>0.997314</td>\n",
       "      <td>0.021544</td>\n",
       "    </tr>\n",
       "    <tr>\n",
       "      <th>1</th>\n",
       "      <td>1</td>\n",
       "      <td>0.070589</td>\n",
       "      <td>0.239793</td>\n",
       "      <td>0.929344</td>\n",
       "      <td>0.239826</td>\n",
       "    </tr>\n",
       "    <tr>\n",
       "      <th>2</th>\n",
       "      <td>1</td>\n",
       "      <td>0.000142</td>\n",
       "      <td>0.000524</td>\n",
       "      <td>0.999850</td>\n",
       "      <td>0.000577</td>\n",
       "    </tr>\n",
       "    <tr>\n",
       "      <th>3</th>\n",
       "      <td>0</td>\n",
       "      <td>0.944513</td>\n",
       "      <td>0.161289</td>\n",
       "      <td>0.055586</td>\n",
       "      <td>0.161470</td>\n",
       "    </tr>\n",
       "    <tr>\n",
       "      <th>4</th>\n",
       "      <td>1</td>\n",
       "      <td>0.989608</td>\n",
       "      <td>0.036339</td>\n",
       "      <td>0.009658</td>\n",
       "      <td>0.033814</td>\n",
       "    </tr>\n",
       "  </tbody>\n",
       "</table>\n",
       "</div>"
      ],
      "text/plain": [
       "   target     mean0      std0     mean1      std1\n",
       "0       1  0.002673  0.021679  0.997314  0.021544\n",
       "1       1  0.070589  0.239793  0.929344  0.239826\n",
       "2       1  0.000142  0.000524  0.999850  0.000577\n",
       "3       0  0.944513  0.161289  0.055586  0.161470\n",
       "4       1  0.989608  0.036339  0.009658  0.033814"
      ]
     },
     "metadata": {},
     "output_type": "display_data"
    }
   ],
   "source": [
    "df = pd.read_csv('results.csv')\n",
    "\n",
    "del df['Unnamed: 0']\n",
    "display(df.head())"
   ]
  },
  {
   "cell_type": "code",
   "execution_count": 28,
   "metadata": {
    "ExecuteTime": {
     "end_time": "2019-09-26T14:03:47.796534Z",
     "start_time": "2019-09-26T14:03:47.780830Z"
    }
   },
   "outputs": [],
   "source": [
    "def classify(x, threshold):\n",
    "    mean = np.array([x['mean0'], x['mean1']])\n",
    "    std = np.array([x['std0'], x['std1']])\n",
    "    if (std[mean.argmax()] < threshold):\n",
    "        return mean.argmax()\n",
    "    else:\n",
    "        return -1"
   ]
  },
  {
   "cell_type": "code",
   "execution_count": 29,
   "metadata": {
    "ExecuteTime": {
     "end_time": "2019-09-26T14:03:48.893136Z",
     "start_time": "2019-09-26T14:03:48.124838Z"
    }
   },
   "outputs": [],
   "source": [
    "df['test'] = df.apply(classify, args=[0.01], axis=1)"
   ]
  },
  {
   "cell_type": "code",
   "execution_count": 30,
   "metadata": {
    "ExecuteTime": {
     "end_time": "2019-09-26T14:03:48.939916Z",
     "start_time": "2019-09-26T14:03:48.924382Z"
    }
   },
   "outputs": [
    {
     "data": {
      "text/html": [
       "<div>\n",
       "<style scoped>\n",
       "    .dataframe tbody tr th:only-of-type {\n",
       "        vertical-align: middle;\n",
       "    }\n",
       "\n",
       "    .dataframe tbody tr th {\n",
       "        vertical-align: top;\n",
       "    }\n",
       "\n",
       "    .dataframe thead th {\n",
       "        text-align: right;\n",
       "    }\n",
       "</style>\n",
       "<table border=\"1\" class=\"dataframe\">\n",
       "  <thead>\n",
       "    <tr style=\"text-align: right;\">\n",
       "      <th></th>\n",
       "      <th>target</th>\n",
       "      <th>mean0</th>\n",
       "      <th>std0</th>\n",
       "      <th>mean1</th>\n",
       "      <th>std1</th>\n",
       "      <th>test</th>\n",
       "    </tr>\n",
       "  </thead>\n",
       "  <tbody>\n",
       "    <tr>\n",
       "      <th>0</th>\n",
       "      <td>1</td>\n",
       "      <td>0.002673</td>\n",
       "      <td>2.167855e-02</td>\n",
       "      <td>0.997314</td>\n",
       "      <td>2.154418e-02</td>\n",
       "      <td>-1</td>\n",
       "    </tr>\n",
       "    <tr>\n",
       "      <th>1</th>\n",
       "      <td>1</td>\n",
       "      <td>0.070589</td>\n",
       "      <td>2.397933e-01</td>\n",
       "      <td>0.929344</td>\n",
       "      <td>2.398257e-01</td>\n",
       "      <td>-1</td>\n",
       "    </tr>\n",
       "    <tr>\n",
       "      <th>2</th>\n",
       "      <td>1</td>\n",
       "      <td>0.000142</td>\n",
       "      <td>5.240253e-04</td>\n",
       "      <td>0.999850</td>\n",
       "      <td>5.772728e-04</td>\n",
       "      <td>1</td>\n",
       "    </tr>\n",
       "    <tr>\n",
       "      <th>3</th>\n",
       "      <td>0</td>\n",
       "      <td>0.944513</td>\n",
       "      <td>1.612889e-01</td>\n",
       "      <td>0.055586</td>\n",
       "      <td>1.614697e-01</td>\n",
       "      <td>-1</td>\n",
       "    </tr>\n",
       "    <tr>\n",
       "      <th>4</th>\n",
       "      <td>1</td>\n",
       "      <td>0.989608</td>\n",
       "      <td>3.633921e-02</td>\n",
       "      <td>0.009658</td>\n",
       "      <td>3.381356e-02</td>\n",
       "      <td>-1</td>\n",
       "    </tr>\n",
       "    <tr>\n",
       "      <th>5</th>\n",
       "      <td>0</td>\n",
       "      <td>0.990453</td>\n",
       "      <td>8.119506e-02</td>\n",
       "      <td>0.009410</td>\n",
       "      <td>8.055458e-02</td>\n",
       "      <td>-1</td>\n",
       "    </tr>\n",
       "    <tr>\n",
       "      <th>6</th>\n",
       "      <td>0</td>\n",
       "      <td>0.635325</td>\n",
       "      <td>3.751462e-01</td>\n",
       "      <td>0.365378</td>\n",
       "      <td>3.748431e-01</td>\n",
       "      <td>-1</td>\n",
       "    </tr>\n",
       "    <tr>\n",
       "      <th>7</th>\n",
       "      <td>0</td>\n",
       "      <td>0.373514</td>\n",
       "      <td>3.850193e-01</td>\n",
       "      <td>0.623757</td>\n",
       "      <td>3.854727e-01</td>\n",
       "      <td>-1</td>\n",
       "    </tr>\n",
       "    <tr>\n",
       "      <th>8</th>\n",
       "      <td>0</td>\n",
       "      <td>0.951198</td>\n",
       "      <td>1.557903e-01</td>\n",
       "      <td>0.048605</td>\n",
       "      <td>1.553988e-01</td>\n",
       "      <td>-1</td>\n",
       "    </tr>\n",
       "    <tr>\n",
       "      <th>9</th>\n",
       "      <td>0</td>\n",
       "      <td>0.601549</td>\n",
       "      <td>3.973885e-01</td>\n",
       "      <td>0.399151</td>\n",
       "      <td>3.970672e-01</td>\n",
       "      <td>-1</td>\n",
       "    </tr>\n",
       "    <tr>\n",
       "      <th>10</th>\n",
       "      <td>0</td>\n",
       "      <td>0.990430</td>\n",
       "      <td>6.919743e-02</td>\n",
       "      <td>0.009636</td>\n",
       "      <td>6.943159e-02</td>\n",
       "      <td>-1</td>\n",
       "    </tr>\n",
       "    <tr>\n",
       "      <th>11</th>\n",
       "      <td>1</td>\n",
       "      <td>0.000707</td>\n",
       "      <td>4.827840e-03</td>\n",
       "      <td>0.999277</td>\n",
       "      <td>4.984310e-03</td>\n",
       "      <td>1</td>\n",
       "    </tr>\n",
       "    <tr>\n",
       "      <th>12</th>\n",
       "      <td>0</td>\n",
       "      <td>0.876840</td>\n",
       "      <td>2.576661e-01</td>\n",
       "      <td>0.121282</td>\n",
       "      <td>2.549108e-01</td>\n",
       "      <td>-1</td>\n",
       "    </tr>\n",
       "    <tr>\n",
       "      <th>13</th>\n",
       "      <td>0</td>\n",
       "      <td>0.999998</td>\n",
       "      <td>6.788589e-07</td>\n",
       "      <td>0.000001</td>\n",
       "      <td>4.827673e-07</td>\n",
       "      <td>0</td>\n",
       "    </tr>\n",
       "    <tr>\n",
       "      <th>14</th>\n",
       "      <td>1</td>\n",
       "      <td>0.000010</td>\n",
       "      <td>3.171725e-05</td>\n",
       "      <td>0.999993</td>\n",
       "      <td>2.901731e-05</td>\n",
       "      <td>1</td>\n",
       "    </tr>\n",
       "  </tbody>\n",
       "</table>\n",
       "</div>"
      ],
      "text/plain": [
       "    target     mean0          std0     mean1          std1  test\n",
       "0        1  0.002673  2.167855e-02  0.997314  2.154418e-02    -1\n",
       "1        1  0.070589  2.397933e-01  0.929344  2.398257e-01    -1\n",
       "2        1  0.000142  5.240253e-04  0.999850  5.772728e-04     1\n",
       "3        0  0.944513  1.612889e-01  0.055586  1.614697e-01    -1\n",
       "4        1  0.989608  3.633921e-02  0.009658  3.381356e-02    -1\n",
       "5        0  0.990453  8.119506e-02  0.009410  8.055458e-02    -1\n",
       "6        0  0.635325  3.751462e-01  0.365378  3.748431e-01    -1\n",
       "7        0  0.373514  3.850193e-01  0.623757  3.854727e-01    -1\n",
       "8        0  0.951198  1.557903e-01  0.048605  1.553988e-01    -1\n",
       "9        0  0.601549  3.973885e-01  0.399151  3.970672e-01    -1\n",
       "10       0  0.990430  6.919743e-02  0.009636  6.943159e-02    -1\n",
       "11       1  0.000707  4.827840e-03  0.999277  4.984310e-03     1\n",
       "12       0  0.876840  2.576661e-01  0.121282  2.549108e-01    -1\n",
       "13       0  0.999998  6.788589e-07  0.000001  4.827673e-07     0\n",
       "14       1  0.000010  3.171725e-05  0.999993  2.901731e-05     1"
      ]
     },
     "execution_count": 30,
     "metadata": {},
     "output_type": "execute_result"
    }
   ],
   "source": [
    "df.head(15)"
   ]
  },
  {
   "cell_type": "code",
   "execution_count": 35,
   "metadata": {
    "ExecuteTime": {
     "end_time": "2019-09-26T14:09:40.500684Z",
     "start_time": "2019-09-26T14:09:40.493677Z"
    }
   },
   "outputs": [
    {
     "name": "stdout",
     "output_type": "stream",
     "text": [
      "precision 0.9754283866795991\n",
      "recall 0.36204\n"
     ]
    }
   ],
   "source": [
    "certain = df[df['test']!=-1]\n",
    "precision = certain['target'] == certain['test']\n",
    "print('precision',precision.mean())\n",
    "\n",
    "recall = df['target'] == df['test']\n",
    "print('recall',recall.mean())"
   ]
  },
  {
   "cell_type": "code",
   "execution_count": 57,
   "metadata": {
    "ExecuteTime": {
     "end_time": "2019-09-26T15:05:06.266554Z",
     "start_time": "2019-09-26T15:04:50.498433Z"
    }
   },
   "outputs": [
    {
     "data": {
      "text/plain": [
       "Text(3.200000000000003, 0.5, 'precision/recall')"
      ]
     },
     "execution_count": 57,
     "metadata": {},
     "output_type": "execute_result"
    },
    {
     "data": {
      "image/png": "[encoded data removed]",
      "text/plain": [
       "<Figure size 432x288 with 1 Axes>"
      ]
     },
     "metadata": {
      "needs_background": "light"
     },
     "output_type": "display_data"
    }
   ],
   "source": [
    "thresholds = list(np.arange(0,1,0.05))\n",
    "precisions = []\n",
    "recalls = []\n",
    "\n",
    "for t in thresholds:\n",
    "    testdf = df\n",
    "    testdf['test'] = testdf.apply(classify, args=[1-t], axis=1)\n",
    "    certain = df[df['test']!=-1]\n",
    "    precision = certain['target'] == certain['test']\n",
    "#     print('precision',precision.mean())\n",
    "    recall = df['target'] == df['test']\n",
    "#     print('recall',recall.mean())\n",
    "    precisions.append(precision.mean())\n",
    "    recalls.append(recall.mean())\n",
    "    \n",
    "plt.plot(thresholds, precisions)\n",
    "plt.plot(thresholds, recalls)\n",
    "plt.title('Precision and Recall with confidence threshold')\n",
    "plt.legend(['precision','recall'])\n",
    "ax.set_xlabel('confidence threshold')\n",
    "ax.set_ylabel('precision/recall')"
   ]
  },
  {
   "cell_type": "code",
   "execution_count": 85,
   "metadata": {},
   "outputs": [],
   "source": [
    "i = 62"
   ]
  },
  {
   "cell_type": "code",
   "execution_count": 95,
   "metadata": {},
   "outputs": [
    {
     "name": "stdout",
     "output_type": "stream",
     "text": [
      "71\n"
     ]
    },
    {
     "data": {
      "image/png": "[encoded data removed]",
      "text/plain": [
       "<Figure size 144x288 with 1 Axes>"
      ]
     },
     "metadata": {
      "needs_background": "light"
     },
     "output_type": "display_data"
    }
   ],
   "source": [
    "print(i)\n",
    "s = df.iloc[i]\n",
    "if s['target'] == 0:\n",
    "    colors = ['green', 'red']\n",
    "else:\n",
    "    colors = ['red', 'green']\n",
    "\n",
    "x_0 = [0]\n",
    "x_1 = [1]\n",
    "y_0 = [s['mean0']]\n",
    "y_1 = [s['mean1']]\n",
    "err_0 = [s['std0']]\n",
    "err_1 = [s['std1']]\n",
    "plt.figure(figsize=(2,4))\n",
    "plt.errorbar(x_0, y_0, yerr=err_0, fmt='o', capsize=8, color=colors[0])\n",
    "plt.errorbar(x_1, y_1, yerr=err_1, fmt='o', capsize=8, color=colors[1])\n",
    "\n",
    "plt.xticks([0, 1])\n",
    "plt.xlim([-0.5, 1.5])\n",
    "plt.xlabel('Class')\n",
    "plt.ylabel('Probability')\n",
    "i += 1"
   ]
  }
 ],
 "metadata": {
  "hide_input": false,
  "kernelspec": {
   "display_name": "Python 3",
   "language": "python",
   "name": "python3"
  },
  "language_info": {
   "codemirror_mode": {
    "name": "ipython",
    "version": 3
   },
   "file_extension": ".py",
   "mimetype": "text/x-python",
   "name": "python",
   "nbconvert_exporter": "python",
   "pygments_lexer": "ipython3",
   "version": "3.6.8"
  },
  "toc": {
   "base_numbering": 1,
   "nav_menu": {},
   "number_sections": true,
   "sideBar": true,
   "skip_h1_title": false,
   "title_cell": "Table of Contents",
   "title_sidebar": "Contents",
   "toc_cell": false,
   "toc_position": {},
   "toc_section_display": true,
   "toc_window_display": false
  },
  "varInspector": {
   "cols": {
    "lenName": 16,
    "lenType": 16,
    "lenVar": 40
   },
   "kernels_config": {
    "python": {
     "delete_cmd_postfix": "",
     "delete_cmd_prefix": "del ",
     "library": "var_list.py",
     "varRefreshCmd": "print(var_dic_list())"
    },
    "r": {
     "delete_cmd_postfix": ") ",
     "delete_cmd_prefix": "rm(",
     "library": "var_list.r",
     "varRefreshCmd": "cat(var_dic_list()) "
    }
   },
   "types_to_exclude": [
    "module",
    "function",
    "builtin_function_or_method",
    "instance",
    "_Feature"
   ],
   "window_display": false
  }
 },
 "nbformat": 4,
 "nbformat_minor": 2
}

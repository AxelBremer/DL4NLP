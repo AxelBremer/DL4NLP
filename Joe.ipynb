{
 "cells": [
  {
   "cell_type": "markdown",
   "metadata": {},
   "source": [
    "## Dataloading"
   ]
  },
  {
   "cell_type": "code",
   "execution_count": null,
   "metadata": {
    "ExecuteTime": {
     "end_time": "2019-09-16T11:47:04.753393Z",
     "start_time": "2019-09-16T11:46:58.375149Z"
    }
   },
   "outputs": [],
   "source": [
    "from __future__ import absolute_import\n",
    "from __future__ import division\n",
    "from __future__ import print_function\n",
    "\n",
    "import os\n",
    "import re\n",
    "import sys\n",
    "import math\n",
    "import numpy as np\n",
    "import torch\n",
    "import torch.utils.data as data\n",
    "\n",
    "from matplotlib import pyplot as plt\n",
    "\n",
    "from collections import Counter\n",
    "\n",
    "import json\n",
    "import pickle\n",
    "import pandas as pd\n",
    "from tqdm import tqdm\n",
    "\n",
    "from string import punctuation"
   ]
  },
  {
   "cell_type": "markdown",
   "metadata": {},
   "source": [
    "### Load data"
   ]
  },
  {
   "cell_type": "code",
   "execution_count": null,
   "metadata": {
    "ExecuteTime": {
     "end_time": "2019-09-16T11:48:50.294871Z",
     "start_time": "2019-09-16T11:47:04.754303Z"
    }
   },
   "outputs": [],
   "source": [
    "mypath = 'data/train'\n",
    "\n",
    "f = []\n",
    "labels = []\n",
    "for sentiment in ['pos','neg']:\n",
    "    path = mypath+'/'+sentiment\n",
    "    for (dirpath, dirnames, filenames) in os.walk(path):\n",
    "        f.extend([path + '/' + filename for filename in filenames])\n",
    "        if sentiment == 'pos':\n",
    "            label = 1\n",
    "        else:\n",
    "            label = 0\n",
    "        labels.extend([label for i in range(len(filenames))])\n",
    "        \n",
    "\n",
    "reviews = []\n",
    "\n",
    "for file in tqdm(f):\n",
    "    with open(file, 'r', encoding='utf-8') as fb:\n",
    "        reviews.append(fb.read())\n",
    "        \n",
    "reviews = '\\n'.join(reviews)"
   ]
  },
  {
   "cell_type": "code",
   "execution_count": null,
   "metadata": {
    "ExecuteTime": {
     "end_time": "2019-09-16T11:48:53.275971Z",
     "start_time": "2019-09-16T11:48:50.296865Z"
    }
   },
   "outputs": [],
   "source": [
    "reviews = reviews.lower()\n",
    "all_text = ''.join([c for c in reviews if c not in punctuation])"
   ]
  },
  {
   "cell_type": "code",
   "execution_count": null,
   "metadata": {
    "ExecuteTime": {
     "end_time": "2019-09-16T11:48:56.560213Z",
     "start_time": "2019-09-16T11:48:53.276970Z"
    }
   },
   "outputs": [],
   "source": [
    "# remove annoying characters\n",
    "chars = {\n",
    "    '\\xc2\\x82' : '',        # High code comma\n",
    "    '\\xc2\\x84' : '',       # High code double comma\n",
    "    '\\xc2\\x85' : '',      # Tripple dot\n",
    "    '\\xc2\\x88' : '',        # High carat\n",
    "    '\\xc2\\x91' : '',     # Forward single quote\n",
    "    '\\xc2\\x92' : '',     # Reverse single quote\n",
    "    '\\xc2\\x93' : '',     # Forward double quote\n",
    "    '\\xc2\\x94' : '',     # Reverse double quote\n",
    "    '\\xc2\\x95' : '',\n",
    "    '\\xc2\\x96' : '',        # High hyphen\n",
    "    '\\xc2\\x97' : '',       # Double hyphen\n",
    "    '\\xc2\\x99' : '',\n",
    "    '\\xc2\\xa0' : '',\n",
    "    '\\xc2\\xa6' : '',        # Split vertical bar\n",
    "    '\\xc2\\xab' : '',       # Double less than\n",
    "    '\\xc2\\xbb' : '',       # Double greater than\n",
    "    '\\xc2\\xbc' : '',      # one quarter\n",
    "    '\\xc2\\xbd' : '',      # one half\n",
    "    '\\xc2\\xbe' : '',      # three quarters\n",
    "    '\\xca\\xbf' : '',     # c-single quote\n",
    "    '\\xcc\\xa8' : '',         # modifier - under curve\n",
    "    '\\xcc\\xb1' : ''          # modifier - under line\n",
    "}\n",
    "\n",
    "all_text = ''.join([i if ord(i) < 128 else ' ' for i in all_text])"
   ]
  },
  {
   "cell_type": "code",
   "execution_count": null,
   "metadata": {
    "ExecuteTime": {
     "end_time": "2019-09-16T11:48:56.591104Z",
     "start_time": "2019-09-16T11:48:56.561185Z"
    }
   },
   "outputs": [],
   "source": [
    "reviews = all_text.split('\\n')"
   ]
  },
  {
   "cell_type": "markdown",
   "metadata": {
    "ExecuteTime": {
     "end_time": "2019-09-11T12:50:55.307666Z",
     "start_time": "2019-09-11T12:50:45.998243Z"
    }
   },
   "source": [
    "### Create Vocabulary"
   ]
  },
  {
   "cell_type": "code",
   "execution_count": null,
   "metadata": {
    "ExecuteTime": {
     "end_time": "2019-09-16T11:48:58.391289Z",
     "start_time": "2019-09-16T11:48:56.592101Z"
    }
   },
   "outputs": [],
   "source": [
    "all_words = ' '.join(reviews)\n",
    "all_words = re.sub('\\\\[x]\\w\\w', '', all_words)\n",
    "word_list = list(set(all_words.split(' ')))\n",
    "word_counter = Counter(all_words.split(' '))\n",
    "total_words = len(word_list)\n",
    "sorted_words = word_counter.most_common(total_words)\n",
    "word_to_int = {w:i+1 for i, (w,c) in enumerate(sorted_words)}"
   ]
  },
  {
   "cell_type": "markdown",
   "metadata": {},
   "source": [
    "### Tokenize reviews"
   ]
  },
  {
   "cell_type": "code",
   "execution_count": null,
   "metadata": {
    "ExecuteTime": {
     "end_time": "2019-09-16T11:48:59.346817Z",
     "start_time": "2019-09-16T11:48:58.392286Z"
    }
   },
   "outputs": [],
   "source": [
    "tokenized_reviews = []\n",
    "for review in reviews:\n",
    "    tokenized_reviews.append([word_to_int[w] for w in review.split()])\n",
    "    \n",
    "print(tokenized_reviews[:4])"
   ]
  },
  {
   "cell_type": "code",
   "execution_count": null,
   "metadata": {
    "ExecuteTime": {
     "end_time": "2019-09-16T11:49:02.778332Z",
     "start_time": "2019-09-16T11:48:59.348758Z"
    }
   },
   "outputs": [],
   "source": [
    "reviews_len = [len(x) for x in tokenized_reviews]\n",
    "lens = pd.Series(reviews_len)\n",
    "lens.hist()\n",
    "plt.show()\n",
    "lens.describe()"
   ]
  }
 ],
 "metadata": {
  "hide_input": false,
  "kernelspec": {
   "display_name": "Python 3",
   "language": "python",
   "name": "python3"
  },
  "language_info": {
   "codemirror_mode": {
    "name": "ipython",
    "version": 3
   },
   "file_extension": ".py",
   "mimetype": "text/x-python",
   "name": "python",
   "nbconvert_exporter": "python",
   "pygments_lexer": "ipython3",
   "version": "3.6.8"
  },
  "toc": {
   "base_numbering": 1,
   "nav_menu": {},
   "number_sections": true,
   "sideBar": true,
   "skip_h1_title": false,
   "title_cell": "Table of Contents",
   "title_sidebar": "Contents",
   "toc_cell": false,
   "toc_position": {},
   "toc_section_display": true,
   "toc_window_display": false
  },
  "varInspector": {
   "cols": {
    "lenName": 16,
    "lenType": 16,
    "lenVar": 40
   },
   "kernels_config": {
    "python": {
     "delete_cmd_postfix": "",
     "delete_cmd_prefix": "del ",
     "library": "var_list.py",
     "varRefreshCmd": "print(var_dic_list())"
    },
    "r": {
     "delete_cmd_postfix": ") ",
     "delete_cmd_prefix": "rm(",
     "library": "var_list.r",
     "varRefreshCmd": "cat(var_dic_list()) "
    }
   },
   "types_to_exclude": [
    "module",
    "function",
    "builtin_function_or_method",
    "instance",
    "_Feature"
   ],
   "window_display": false
  }
 },
 "nbformat": 4,
 "nbformat_minor": 2
}

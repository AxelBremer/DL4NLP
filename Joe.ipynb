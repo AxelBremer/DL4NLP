{
 "cells": [
  {
   "cell_type": "markdown",
   "metadata": {},
   "source": [
    "## Dataloading"
   ]
  },
  {
   "cell_type": "code",
   "execution_count": null,
   "metadata": {
    "ExecuteTime": {
     "end_time": "2019-09-26T13:50:56.622505Z",
     "start_time": "2019-09-26T13:50:56.606858Z"
    }
   },
   "outputs": [],
   "source": [
    "import pandas as pd\n",
    "import seaborn as sns\n",
    "import matplotlib.pyplot as plt\n",
    "import numpy as np"
   ]
  },
  {
   "cell_type": "markdown",
   "metadata": {},
   "source": [
    "### Load data"
   ]
  },
  {
   "cell_type": "code",
   "execution_count": null,
   "metadata": {
    "ExecuteTime": {
     "end_time": "2019-09-26T13:58:05.218346Z",
     "start_time": "2019-09-26T13:58:05.171397Z"
    }
   },
   "outputs": [],
   "source": [
    "df = pd.read_csv('results.csv')\n",
    "\n",
    "del df['Unnamed: 0']\n",
    "display(df.head())"
   ]
  },
  {
   "cell_type": "code",
   "execution_count": null,
   "metadata": {
    "ExecuteTime": {
     "end_time": "2019-09-26T14:03:47.796534Z",
     "start_time": "2019-09-26T14:03:47.780830Z"
    }
   },
   "outputs": [],
   "source": [
    "def classify(x, threshold):\n",
    "    mean = np.array([x['mean0'], x['mean1']])\n",
    "    std = np.array([x['std0'], x['std1']])\n",
    "    if (std[mean.argmax()] < threshold):\n",
    "        return mean.argmax()\n",
    "    else:\n",
    "        return -1"
   ]
  },
  {
   "cell_type": "code",
   "execution_count": null,
   "metadata": {
    "ExecuteTime": {
     "end_time": "2019-09-26T14:03:48.893136Z",
     "start_time": "2019-09-26T14:03:48.124838Z"
    }
   },
   "outputs": [],
   "source": [
    "df['test'] = df.apply(classify, args=[0.01], axis=1)"
   ]
  },
  {
   "cell_type": "code",
   "execution_count": null,
   "metadata": {
    "ExecuteTime": {
     "end_time": "2019-09-26T14:03:48.939916Z",
     "start_time": "2019-09-26T14:03:48.924382Z"
    }
   },
   "outputs": [],
   "source": [
    "df.head(15)"
   ]
  },
  {
   "cell_type": "code",
   "execution_count": null,
   "metadata": {
    "ExecuteTime": {
     "end_time": "2019-09-26T14:09:40.500684Z",
     "start_time": "2019-09-26T14:09:40.493677Z"
    }
   },
   "outputs": [],
   "source": [
    "certain = df[df['test']!=-1]\n",
    "precision = certain['target'] == certain['test']\n",
    "print('precision',precision.mean())\n",
    "\n",
    "recall = df['target'] == df['test']\n",
    "print('recall',recall.mean())"
   ]
  },
  {
   "cell_type": "code",
   "execution_count": null,
   "metadata": {
    "ExecuteTime": {
     "end_time": "2019-09-26T14:28:46.032897Z",
     "start_time": "2019-09-26T14:28:30.951327Z"
    }
   },
   "outputs": [],
   "source": [
    "thresholds = list(np.arange(0,1,0.05))\n",
    "precisions = []\n",
    "recalls = []\n",
    "\n",
    "for t in thresholds:\n",
    "    testdf = df\n",
    "    testdf['test'] = testdf.apply(classify, args=[1-t], axis=1)\n",
    "    certain = df[df['test']!=-1]\n",
    "    precision = certain['target'] == certain['test']\n",
    "#     print('precision',precision.mean())\n",
    "    recall = df['target'] == df['test']\n",
    "#     print('recall',recall.mean())\n",
    "    precisions.append(precision.mean())\n",
    "    recalls.append(recall.mean())\n",
    "    \n",
    "plt.plot(thresholds, precisions)\n",
    "plt.plot(thresholds, recalls)\n",
    "plt.title('Precision and Recall with confidence threshold')\n",
    "plt.legend(['precision','recall'])\n",
    "plt.set_xlabel('confidence threshold')\n",
    "plt.set_ylabel('precision/recall')"
   ]
  },
  {
   "cell_type": "code",
   "execution_count": null,
   "metadata": {},
   "outputs": [],
   "source": [
    "i = 62"
   ]
  },
  {
   "cell_type": "code",
   "execution_count": null,
   "metadata": {},
   "outputs": [],
   "source": [
    "print(i)\n",
    "s = df.iloc[i]\n",
    "if s['target'] == 0:\n",
    "    colors = ['green', 'red']\n",
    "else:\n",
    "    colors = ['red', 'green']\n",
    "\n",
    "x_0 = [0]\n",
    "x_1 = [1]\n",
    "y_0 = [s['mean0']]\n",
    "y_1 = [s['mean1']]\n",
    "err_0 = [s['std0']]\n",
    "err_1 = [s['std1']]\n",
    "plt.figure(figsize=(2,4))\n",
    "plt.errorbar(x_0, y_0, yerr=err_0, fmt='o', capsize=8, color=colors[0])\n",
    "plt.errorbar(x_1, y_1, yerr=err_1, fmt='o', capsize=8, color=colors[1])\n",
    "\n",
    "plt.xticks([0, 1])\n",
    "plt.xlim([-0.5, 1.5])\n",
    "plt.xlabel('Class')\n",
    "plt.ylabel('Probability')\n",
    "i += 1"
   ]
  },
  {
   "cell_type": "markdown",
   "metadata": {},
   "source": [
    "# Mean TF-IDF per document"
   ]
  },
  {
   "cell_type": "code",
   "execution_count": null,
   "metadata": {},
   "outputs": [],
   "source": [
    "from sklearn.feature_extraction.text import TfidfVectorizer\n",
    "from sklearn.cluster import KMeans\n",
    "from keras.datasets import imdb"
   ]
  },
  {
   "cell_type": "code",
   "execution_count": null,
   "metadata": {},
   "outputs": [],
   "source": [
    "# credits to:\n",
    "# https://gist.github.com/prinsherbert/92313f15fc814d6eed1e36ab4df1f92d \n",
    "\n",
    "word_to_index = imdb.get_word_index()\n",
    "index_to_word = [None] * (max(word_to_index.values()) + 1)\n",
    "\n",
    "for w, i in word_to_index.items():\n",
    "    index_to_word[i] = w\n",
    "    \n",
    "(X_train, y_train), _ = imdb.load_data()\n",
    "\n",
    "X_train = [\n",
    "    ' '.join(\n",
    "        index_to_word[i]\n",
    "        for i in X_train[i]\n",
    "        if i < len(index_to_word)\n",
    "    ) for i in range(X_train.shape[0])\n",
    "]\n",
    "\n",
    "# X_test = [\n",
    "#     ' '.join(\n",
    "#         index_to_word[i]\n",
    "#         for i in X_test[i]\n",
    "#         if i < len(index_to_word)\n",
    "#     ) for i in range(X_test.shape[0])\n",
    "# ]"
   ]
  },
  {
   "cell_type": "code",
   "execution_count": null,
   "metadata": {},
   "outputs": [],
   "source": [
    "vectorizer = TfidfVectorizer()\n",
    "X = vectorizer.fit_transform(X_train)"
   ]
  },
  {
   "cell_type": "code",
   "execution_count": null,
   "metadata": {},
   "outputs": [],
   "source": [
    "tf_idf_avg = []\n",
    "for document in X:\n",
    "    tf_idf_avg.append(document.mean())\n",
    "\n",
    "print(tf_idf_avg[:10])"
   ]
  }
 ],
 "metadata": {
  "hide_input": false,
  "kernelspec": {
   "display_name": "Python 3",
   "language": "python",
   "name": "python3"
  },
  "language_info": {
   "codemirror_mode": {
    "name": "ipython",
    "version": 3
   },
   "file_extension": ".py",
   "mimetype": "text/x-python",
   "name": "python",
   "nbconvert_exporter": "python",
   "pygments_lexer": "ipython3",
   "version": "3.7.3"
  },
  "toc": {
   "base_numbering": 1,
   "nav_menu": {},
   "number_sections": true,
   "sideBar": true,
   "skip_h1_title": false,
   "title_cell": "Table of Contents",
   "title_sidebar": "Contents",
   "toc_cell": false,
   "toc_position": {},
   "toc_section_display": true,
   "toc_window_display": false
  },
  "varInspector": {
   "cols": {
    "lenName": 16,
    "lenType": 16,
    "lenVar": 40
   },
   "kernels_config": {
    "python": {
     "delete_cmd_postfix": "",
     "delete_cmd_prefix": "del ",
     "library": "var_list.py",
     "varRefreshCmd": "print(var_dic_list())"
    },
    "r": {
     "delete_cmd_postfix": ") ",
     "delete_cmd_prefix": "rm(",
     "library": "var_list.r",
     "varRefreshCmd": "cat(var_dic_list()) "
    }
   },
   "types_to_exclude": [
    "module",
    "function",
    "builtin_function_or_method",
    "instance",
    "_Feature"
   ],
   "window_display": false
  }
 },
 "nbformat": 4,
 "nbformat_minor": 2
}

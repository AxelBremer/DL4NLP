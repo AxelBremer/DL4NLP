{
 "cells": [
  {
   "cell_type": "markdown",
   "metadata": {},
   "source": [
    "## Dataloading"
   ]
  },
  {
   "cell_type": "code",
   "execution_count": 7,
   "metadata": {
    "ExecuteTime": {
     "end_time": "2019-10-02T12:10:07.165292Z",
     "start_time": "2019-10-02T12:10:07.158348Z"
    }
   },
   "outputs": [],
   "source": [
    "import pandas as pd\n",
    "import seaborn as sns\n",
    "import matplotlib.pyplot as plt\n",
    "import numpy as np\n",
    "\n",
    "from ast import literal_eval\n",
    "from sklearn.metrics import confusion_matrix\n",
    "import seaborn as sns\n",
    "\n",
    "plt.rcParams.update({'font.size': 24})"
   ]
  },
  {
   "cell_type": "markdown",
   "metadata": {},
   "source": [
    "### Load data"
   ]
  },
  {
   "cell_type": "code",
   "execution_count": 2,
   "metadata": {
    "ExecuteTime": {
     "end_time": "2019-10-02T12:07:31.006055Z",
     "start_time": "2019-10-02T12:07:30.746620Z"
    }
   },
   "outputs": [
    {
     "data": {
      "text/html": [
       "<div>\n",
       "<style scoped>\n",
       "    .dataframe tbody tr th:only-of-type {\n",
       "        vertical-align: middle;\n",
       "    }\n",
       "\n",
       "    .dataframe tbody tr th {\n",
       "        vertical-align: top;\n",
       "    }\n",
       "\n",
       "    .dataframe thead th {\n",
       "        text-align: right;\n",
       "    }\n",
       "</style>\n",
       "<table border=\"1\" class=\"dataframe\">\n",
       "  <thead>\n",
       "    <tr style=\"text-align: right;\">\n",
       "      <th></th>\n",
       "      <th>target</th>\n",
       "      <th>mean0</th>\n",
       "      <th>std0</th>\n",
       "      <th>mean1</th>\n",
       "      <th>std1</th>\n",
       "      <th>text</th>\n",
       "    </tr>\n",
       "  </thead>\n",
       "  <tbody>\n",
       "    <tr>\n",
       "      <th>0</th>\n",
       "      <td>0</td>\n",
       "      <td>0.999086</td>\n",
       "      <td>0.000652</td>\n",
       "      <td>0.000914</td>\n",
       "      <td>0.000652</td>\n",
       "      <td>...</td>\n",
       "    </tr>\n",
       "    <tr>\n",
       "      <th>1</th>\n",
       "      <td>0</td>\n",
       "      <td>0.969981</td>\n",
       "      <td>0.012336</td>\n",
       "      <td>0.030019</td>\n",
       "      <td>0.012336</td>\n",
       "      <td>...</td>\n",
       "    </tr>\n",
       "    <tr>\n",
       "      <th>2</th>\n",
       "      <td>1</td>\n",
       "      <td>0.230962</td>\n",
       "      <td>0.083058</td>\n",
       "      <td>0.769038</td>\n",
       "      <td>0.083058</td>\n",
       "      <td>classics and is not only a &lt;UNK&gt; little 20 min...</td>\n",
       "    </tr>\n",
       "    <tr>\n",
       "      <th>3</th>\n",
       "      <td>0</td>\n",
       "      <td>0.982669</td>\n",
       "      <td>0.009936</td>\n",
       "      <td>0.017331</td>\n",
       "      <td>0.009936</td>\n",
       "      <td>&lt;UNK&gt; a nerd thing it's just an example of how...</td>\n",
       "    </tr>\n",
       "    <tr>\n",
       "      <th>4</th>\n",
       "      <td>1</td>\n",
       "      <td>0.135886</td>\n",
       "      <td>0.054573</td>\n",
       "      <td>0.864114</td>\n",
       "      <td>0.054573</td>\n",
       "      <td>&lt;UNK&gt; travels back towards the hospital but is...</td>\n",
       "    </tr>\n",
       "  </tbody>\n",
       "</table>\n",
       "</div>"
      ],
      "text/plain": [
       "   target     mean0      std0     mean1      std1  \\\n",
       "0       0  0.999086  0.000652  0.000914  0.000652   \n",
       "1       0  0.969981  0.012336  0.030019  0.012336   \n",
       "2       1  0.230962  0.083058  0.769038  0.083058   \n",
       "3       0  0.982669  0.009936  0.017331  0.009936   \n",
       "4       1  0.135886  0.054573  0.864114  0.054573   \n",
       "\n",
       "                                                text  \n",
       "0                                                ...  \n",
       "1                                                ...  \n",
       "2  classics and is not only a <UNK> little 20 min...  \n",
       "3  <UNK> a nerd thing it's just an example of how...  \n",
       "4  <UNK> travels back towards the hospital but is...  "
      ]
     },
     "metadata": {},
     "output_type": "display_data"
    }
   ],
   "source": [
    "df = pd.read_csv('results.csv', index_col=False)\n",
    "\n",
    "del df['Unnamed: 0']\n",
    "\n",
    "a = []\n",
    "\n",
    "df['target'] = df['target'].apply(literal_eval)\n",
    "joe = df['target'].values\n",
    "for v in joe:\n",
    "    a.append(np.array(v))\n",
    "joe = np.array(a).argmax(1)\n",
    "df['target'] = joe\n",
    "\n",
    "df['mean0'] = df['mean0'].astype('float64')\n",
    "df['std0'] = df['std0'].astype('float64')\n",
    "df['mean1'] = df['mean1'].astype('float64')\n",
    "df['std1'] = df['std1'].astype('float64')\n",
    "display(df.head())"
   ]
  },
  {
   "cell_type": "code",
   "execution_count": 3,
   "metadata": {
    "ExecuteTime": {
     "end_time": "2019-10-02T12:07:58.153031Z",
     "start_time": "2019-10-02T12:07:58.142119Z"
    }
   },
   "outputs": [],
   "source": [
    "def classify(x, threshold):\n",
    "    mean = np.array([x['mean0'], x['mean1']])\n",
    "    std = np.array([x['std0'], x['std1']])\n",
    "    if (std[mean.argmax()] <= threshold):\n",
    "        return mean.argmax()\n",
    "    else:\n",
    "        return -1"
   ]
  },
  {
   "cell_type": "code",
   "execution_count": 4,
   "metadata": {
    "ExecuteTime": {
     "end_time": "2019-10-02T12:07:58.722661Z",
     "start_time": "2019-10-02T12:07:58.718167Z"
    }
   },
   "outputs": [
    {
     "data": {
      "text/plain": [
       "0.14538480546045815"
      ]
     },
     "execution_count": 4,
     "metadata": {},
     "output_type": "execute_result"
    }
   ],
   "source": [
    "df['std1'].max()"
   ]
  },
  {
   "cell_type": "code",
   "execution_count": 26,
   "metadata": {
    "ExecuteTime": {
     "end_time": "2019-10-02T13:31:47.948817Z",
     "start_time": "2019-10-02T13:31:32.744058Z"
    },
    "scrolled": true
   },
   "outputs": [
    {
     "name": "stderr",
     "output_type": "stream",
     "text": [
      "100%|██████████████████████████████████████████████████████████████████████████████████| 40/40 [00:14<00:00,  2.68it/s]\n"
     ]
    },
    {
     "data": {
      "text/plain": [
       "<matplotlib.legend.Legend at 0x230d6bd5ef0>"
      ]
     },
     "execution_count": 26,
     "metadata": {},
     "output_type": "execute_result"
    },
    {
     "data": {
      "image/png": "[encoded data removed]",
      "text/plain": [
       "<Figure size 1080x720 with 1 Axes>"
      ]
     },
     "metadata": {},
     "output_type": "display_data"
    }
   ],
   "source": [
    "from tqdm import tqdm\n",
    "\n",
    "sns.set_style('whitegrid')\n",
    "\n",
    "thresholds = list(np.arange(0,0.2,0.005))\n",
    "precisions = []\n",
    "recalls = []\n",
    "\n",
    "for t in tqdm(thresholds):\n",
    "    testdf = df\n",
    "    testdf['test'] = testdf.apply(classify, args=[t], axis=1)\n",
    "    certain = df[df['test']!=-1]\n",
    "#     print(len(certain))\n",
    "    precision = certain['target'] == certain['test']\n",
    "#     print('precision',precision.mean())\n",
    "    recall = len(certain)/12500\n",
    "#     print('recall',recall.mean())\n",
    "    precisions.append(precision.mean())\n",
    "    recalls.append(recall)\n",
    "\n",
    "datf = pd.DataFrame({'threshold':thresholds[1:], 'precision':precisions[1:], 'recall':recalls[1:]})\n",
    "fig, ax = plt.subplots(figsize=(15,10))\n",
    "sns.lineplot(data=datf, x='threshold', y='precision')\n",
    "sns.lineplot(data=datf, x='threshold', y='recall')\n",
    "plt.title('Precision and Recall with uncertainty threshold')\n",
    "plt.legend(['precision','recall'])\n",
    "# plt.set_xlabel('confidence threshold')\n",
    "# plt.set_ylabel('precision/recall')"
   ]
  },
  {
   "cell_type": "code",
   "execution_count": 12,
   "metadata": {
    "ExecuteTime": {
     "end_time": "2019-10-02T12:14:08.187923Z",
     "start_time": "2019-10-02T12:14:07.813448Z"
    }
   },
   "outputs": [
    {
     "name": "stdout",
     "output_type": "stream",
     "text": [
      "precision 0.9286486486486486\n",
      "recall 0.814\n"
     ]
    }
   ],
   "source": [
    "testdf = df\n",
    "testdf['test'] = testdf.apply(classify, args=[0.075], axis=1)\n",
    "certain = df[df['test']!=-1]\n",
    "#     print(len(certain))\n",
    "precision = certain['target'] == certain['test']\n",
    "#     print('precision',precision.mean())\n",
    "recall = len(certain)/12500\n",
    "\n",
    "print('precision',precision.mean())\n",
    "print('recall',recall)"
   ]
  },
  {
   "cell_type": "code",
   "execution_count": 15,
   "metadata": {
    "ExecuteTime": {
     "end_time": "2019-10-02T12:22:00.660033Z",
     "start_time": "2019-10-02T12:22:00.645618Z"
    }
   },
   "outputs": [
    {
     "data": {
      "text/html": [
       "<div>\n",
       "<style scoped>\n",
       "    .dataframe tbody tr th:only-of-type {\n",
       "        vertical-align: middle;\n",
       "    }\n",
       "\n",
       "    .dataframe tbody tr th {\n",
       "        vertical-align: top;\n",
       "    }\n",
       "\n",
       "    .dataframe thead th {\n",
       "        text-align: right;\n",
       "    }\n",
       "</style>\n",
       "<table border=\"1\" class=\"dataframe\">\n",
       "  <thead>\n",
       "    <tr style=\"text-align: right;\">\n",
       "      <th></th>\n",
       "      <th>threshold</th>\n",
       "      <th>precision</th>\n",
       "      <th>recall</th>\n",
       "    </tr>\n",
       "  </thead>\n",
       "  <tbody>\n",
       "    <tr>\n",
       "      <th>0</th>\n",
       "      <td>0.005</td>\n",
       "      <td>0.995179</td>\n",
       "      <td>0.19912</td>\n",
       "    </tr>\n",
       "    <tr>\n",
       "      <th>1</th>\n",
       "      <td>0.010</td>\n",
       "      <td>0.989114</td>\n",
       "      <td>0.32336</td>\n",
       "    </tr>\n",
       "    <tr>\n",
       "      <th>2</th>\n",
       "      <td>0.015</td>\n",
       "      <td>0.985274</td>\n",
       "      <td>0.40744</td>\n",
       "    </tr>\n",
       "    <tr>\n",
       "      <th>3</th>\n",
       "      <td>0.020</td>\n",
       "      <td>0.981961</td>\n",
       "      <td>0.47008</td>\n",
       "    </tr>\n",
       "    <tr>\n",
       "      <th>4</th>\n",
       "      <td>0.025</td>\n",
       "      <td>0.978041</td>\n",
       "      <td>0.52096</td>\n",
       "    </tr>\n",
       "    <tr>\n",
       "      <th>5</th>\n",
       "      <td>0.030</td>\n",
       "      <td>0.973385</td>\n",
       "      <td>0.56208</td>\n",
       "    </tr>\n",
       "    <tr>\n",
       "      <th>6</th>\n",
       "      <td>0.035</td>\n",
       "      <td>0.969940</td>\n",
       "      <td>0.59880</td>\n",
       "    </tr>\n",
       "    <tr>\n",
       "      <th>7</th>\n",
       "      <td>0.040</td>\n",
       "      <td>0.964435</td>\n",
       "      <td>0.63208</td>\n",
       "    </tr>\n",
       "    <tr>\n",
       "      <th>8</th>\n",
       "      <td>0.045</td>\n",
       "      <td>0.960872</td>\n",
       "      <td>0.66040</td>\n",
       "    </tr>\n",
       "    <tr>\n",
       "      <th>9</th>\n",
       "      <td>0.050</td>\n",
       "      <td>0.957161</td>\n",
       "      <td>0.68536</td>\n",
       "    </tr>\n",
       "    <tr>\n",
       "      <th>10</th>\n",
       "      <td>0.055</td>\n",
       "      <td>0.952370</td>\n",
       "      <td>0.71048</td>\n",
       "    </tr>\n",
       "    <tr>\n",
       "      <th>11</th>\n",
       "      <td>0.060</td>\n",
       "      <td>0.947065</td>\n",
       "      <td>0.73600</td>\n",
       "    </tr>\n",
       "    <tr>\n",
       "      <th>12</th>\n",
       "      <td>0.065</td>\n",
       "      <td>0.941646</td>\n",
       "      <td>0.76224</td>\n",
       "    </tr>\n",
       "    <tr>\n",
       "      <th>13</th>\n",
       "      <td>0.070</td>\n",
       "      <td>0.933977</td>\n",
       "      <td>0.78760</td>\n",
       "    </tr>\n",
       "    <tr>\n",
       "      <th>14</th>\n",
       "      <td>0.075</td>\n",
       "      <td>0.928649</td>\n",
       "      <td>0.81400</td>\n",
       "    </tr>\n",
       "    <tr>\n",
       "      <th>15</th>\n",
       "      <td>0.080</td>\n",
       "      <td>0.921340</td>\n",
       "      <td>0.84312</td>\n",
       "    </tr>\n",
       "    <tr>\n",
       "      <th>16</th>\n",
       "      <td>0.085</td>\n",
       "      <td>0.913311</td>\n",
       "      <td>0.87024</td>\n",
       "    </tr>\n",
       "    <tr>\n",
       "      <th>17</th>\n",
       "      <td>0.090</td>\n",
       "      <td>0.904567</td>\n",
       "      <td>0.89864</td>\n",
       "    </tr>\n",
       "    <tr>\n",
       "      <th>18</th>\n",
       "      <td>0.095</td>\n",
       "      <td>0.894755</td>\n",
       "      <td>0.92736</td>\n",
       "    </tr>\n",
       "    <tr>\n",
       "      <th>19</th>\n",
       "      <td>0.100</td>\n",
       "      <td>0.886827</td>\n",
       "      <td>0.95288</td>\n",
       "    </tr>\n",
       "    <tr>\n",
       "      <th>20</th>\n",
       "      <td>0.105</td>\n",
       "      <td>0.881403</td>\n",
       "      <td>0.97136</td>\n",
       "    </tr>\n",
       "    <tr>\n",
       "      <th>21</th>\n",
       "      <td>0.110</td>\n",
       "      <td>0.876522</td>\n",
       "      <td>0.98544</td>\n",
       "    </tr>\n",
       "    <tr>\n",
       "      <th>22</th>\n",
       "      <td>0.115</td>\n",
       "      <td>0.874657</td>\n",
       "      <td>0.99184</td>\n",
       "    </tr>\n",
       "    <tr>\n",
       "      <th>23</th>\n",
       "      <td>0.120</td>\n",
       "      <td>0.873101</td>\n",
       "      <td>0.99544</td>\n",
       "    </tr>\n",
       "    <tr>\n",
       "      <th>24</th>\n",
       "      <td>0.125</td>\n",
       "      <td>0.871924</td>\n",
       "      <td>0.99816</td>\n",
       "    </tr>\n",
       "    <tr>\n",
       "      <th>25</th>\n",
       "      <td>0.130</td>\n",
       "      <td>0.871626</td>\n",
       "      <td>0.99896</td>\n",
       "    </tr>\n",
       "    <tr>\n",
       "      <th>26</th>\n",
       "      <td>0.135</td>\n",
       "      <td>0.871528</td>\n",
       "      <td>0.99944</td>\n",
       "    </tr>\n",
       "    <tr>\n",
       "      <th>27</th>\n",
       "      <td>0.140</td>\n",
       "      <td>0.871409</td>\n",
       "      <td>0.99976</td>\n",
       "    </tr>\n",
       "    <tr>\n",
       "      <th>28</th>\n",
       "      <td>0.145</td>\n",
       "      <td>0.871430</td>\n",
       "      <td>0.99992</td>\n",
       "    </tr>\n",
       "    <tr>\n",
       "      <th>29</th>\n",
       "      <td>0.150</td>\n",
       "      <td>0.871360</td>\n",
       "      <td>1.00000</td>\n",
       "    </tr>\n",
       "    <tr>\n",
       "      <th>30</th>\n",
       "      <td>0.155</td>\n",
       "      <td>0.871360</td>\n",
       "      <td>1.00000</td>\n",
       "    </tr>\n",
       "    <tr>\n",
       "      <th>31</th>\n",
       "      <td>0.160</td>\n",
       "      <td>0.871360</td>\n",
       "      <td>1.00000</td>\n",
       "    </tr>\n",
       "    <tr>\n",
       "      <th>32</th>\n",
       "      <td>0.165</td>\n",
       "      <td>0.871360</td>\n",
       "      <td>1.00000</td>\n",
       "    </tr>\n",
       "    <tr>\n",
       "      <th>33</th>\n",
       "      <td>0.170</td>\n",
       "      <td>0.871360</td>\n",
       "      <td>1.00000</td>\n",
       "    </tr>\n",
       "    <tr>\n",
       "      <th>34</th>\n",
       "      <td>0.175</td>\n",
       "      <td>0.871360</td>\n",
       "      <td>1.00000</td>\n",
       "    </tr>\n",
       "    <tr>\n",
       "      <th>35</th>\n",
       "      <td>0.180</td>\n",
       "      <td>0.871360</td>\n",
       "      <td>1.00000</td>\n",
       "    </tr>\n",
       "    <tr>\n",
       "      <th>36</th>\n",
       "      <td>0.185</td>\n",
       "      <td>0.871360</td>\n",
       "      <td>1.00000</td>\n",
       "    </tr>\n",
       "    <tr>\n",
       "      <th>37</th>\n",
       "      <td>0.190</td>\n",
       "      <td>0.871360</td>\n",
       "      <td>1.00000</td>\n",
       "    </tr>\n",
       "    <tr>\n",
       "      <th>38</th>\n",
       "      <td>0.195</td>\n",
       "      <td>0.871360</td>\n",
       "      <td>1.00000</td>\n",
       "    </tr>\n",
       "  </tbody>\n",
       "</table>\n",
       "</div>"
      ],
      "text/plain": [
       "    threshold  precision   recall\n",
       "0       0.005   0.995179  0.19912\n",
       "1       0.010   0.989114  0.32336\n",
       "2       0.015   0.985274  0.40744\n",
       "3       0.020   0.981961  0.47008\n",
       "4       0.025   0.978041  0.52096\n",
       "5       0.030   0.973385  0.56208\n",
       "6       0.035   0.969940  0.59880\n",
       "7       0.040   0.964435  0.63208\n",
       "8       0.045   0.960872  0.66040\n",
       "9       0.050   0.957161  0.68536\n",
       "10      0.055   0.952370  0.71048\n",
       "11      0.060   0.947065  0.73600\n",
       "12      0.065   0.941646  0.76224\n",
       "13      0.070   0.933977  0.78760\n",
       "14      0.075   0.928649  0.81400\n",
       "15      0.080   0.921340  0.84312\n",
       "16      0.085   0.913311  0.87024\n",
       "17      0.090   0.904567  0.89864\n",
       "18      0.095   0.894755  0.92736\n",
       "19      0.100   0.886827  0.95288\n",
       "20      0.105   0.881403  0.97136\n",
       "21      0.110   0.876522  0.98544\n",
       "22      0.115   0.874657  0.99184\n",
       "23      0.120   0.873101  0.99544\n",
       "24      0.125   0.871924  0.99816\n",
       "25      0.130   0.871626  0.99896\n",
       "26      0.135   0.871528  0.99944\n",
       "27      0.140   0.871409  0.99976\n",
       "28      0.145   0.871430  0.99992\n",
       "29      0.150   0.871360  1.00000\n",
       "30      0.155   0.871360  1.00000\n",
       "31      0.160   0.871360  1.00000\n",
       "32      0.165   0.871360  1.00000\n",
       "33      0.170   0.871360  1.00000\n",
       "34      0.175   0.871360  1.00000\n",
       "35      0.180   0.871360  1.00000\n",
       "36      0.185   0.871360  1.00000\n",
       "37      0.190   0.871360  1.00000\n",
       "38      0.195   0.871360  1.00000"
      ]
     },
     "execution_count": 15,
     "metadata": {},
     "output_type": "execute_result"
    }
   ],
   "source": [
    "datf"
   ]
  },
  {
   "cell_type": "code",
   "execution_count": 27,
   "metadata": {
    "ExecuteTime": {
     "end_time": "2019-10-02T14:00:41.157930Z",
     "start_time": "2019-10-02T14:00:41.140523Z"
    }
   },
   "outputs": [],
   "source": [
    "i = 0"
   ]
  },
  {
   "cell_type": "code",
   "execution_count": 52,
   "metadata": {
    "ExecuteTime": {
     "end_time": "2019-10-02T14:19:19.900523Z",
     "start_time": "2019-10-02T14:19:19.768005Z"
    }
   },
   "outputs": [
    {
     "name": "stdout",
     "output_type": "stream",
     "text": [
      "24\n",
      "                                                           <START> i put in the dvd expecting camp <UNK> from the creators of society and re animator and was quite surprised to become involved in an <UNK> suspenseful tale acting was top notch nice to see <UNK> in a protagonist role after a long string of villains the storyline involving and the few twists fairly surprising i figured i would fast forward through much of it to get to the <UNK> scenes but instead watched it through only being let down at the very end br br maybe i'm being too <UNK> but as i stated before i wasn't expecting much more than alien sex of course if you are looking for some hot alien sex you will be let down it was mostly quick cut <UNK> table nonsense with a blink and you'll miss it glimpse of an interesting alien\n",
      "[0.17942564512494888] [0.1794256413484829]\n"
     ]
    },
    {
     "data": {
      "image/png": "[encoded data removed]",
      "text/plain": [
       "<Figure size 288x576 with 1 Axes>"
      ]
     },
     "metadata": {},
     "output_type": "display_data"
    }
   ],
   "source": [
    "print(i)\n",
    "s = df.iloc[i]\n",
    "print(s['text'])\n",
    "if s['target'] == 0:\n",
    "    colors = ['green', 'red']\n",
    "else:\n",
    "    colors = ['red', 'green']\n",
    "\n",
    "x_0 = [0]\n",
    "x_1 = [1]\n",
    "y_0 = [s['mean0']]\n",
    "y_1 = [s['mean1']]\n",
    "err_0 = [s['std0']*2]\n",
    "err_1 = [s['std1']*2]\n",
    "print(err_0, err_1)\n",
    "plt.figure(figsize=(4,8))\n",
    "plt.errorbar(x_0, y_0, yerr=err_0, fmt='o', capsize=8, color=colors[0])\n",
    "plt.errorbar(x_1, y_1, yerr=err_1, fmt='o', capsize=8, color=colors[1])\n",
    "\n",
    "plt.xticks([0, 1], ['negative', 'positive'])\n",
    "plt.ylim([0,1])\n",
    "plt.xlim([-0.5, 1.5])\n",
    "plt.xlabel('Class')\n",
    "plt.ylabel('Probability')\n",
    "\n",
    "i += 1"
   ]
  },
  {
   "cell_type": "code",
   "execution_count": null,
   "metadata": {
    "ExecuteTime": {
     "end_time": "2019-10-02T09:14:25.831514Z",
     "start_time": "2019-10-02T09:14:25.309738Z"
    }
   },
   "outputs": [],
   "source": [
    "df['y_pred'] = df.apply(classify, args=[0.075], axis=1)\n",
    "\n",
    "for t in thresholds:\n",
    "    testdf = df\n",
    "    testdf['test'] = testdf.apply(classify, args=[1-t], axis=1)\n",
    "    certain = df[df['test']!=-1]\n",
    "    precision = certain['target'] == certain['test']\n",
    "#     print('precision',precision.mean())\n",
    "    recall = df['target'] == df['test']\n",
    "#     print('recall',recall.mean())\n",
    "    precisions.append(precision.mean())\n",
    "    recalls.append(recall.mean())\n",
    "    \n",
    "plt.plot(thresholds, precisions)\n",
    "plt.plot(thresholds, recalls)\n",
    "plt.title('Precision and Recall with confidence threshold')\n",
    "plt.legend(['precision','recall'])\n",
    "plt.set_xlabel('confidence threshold')\n",
    "plt.set_ylabel('precision/recall')"
   ]
  },
  {
   "cell_type": "code",
   "execution_count": null,
   "metadata": {},
   "outputs": [],
   "source": [
    "i = 62"
   ]
  },
  {
   "cell_type": "code",
   "execution_count": 18,
   "metadata": {
    "ExecuteTime": {
     "end_time": "2019-10-02T13:10:04.735921Z",
     "start_time": "2019-10-02T13:10:04.158081Z"
    }
   },
   "outputs": [
    {
     "data": {
      "image/png": "[encoded data removed]",
      "text/plain": [
       "<Figure size 1080x720 with 2 Axes>"
      ]
     },
     "metadata": {},
     "output_type": "display_data"
    }
   ],
   "source": [
    "df['y_pred'] = df.apply(classify, args=[1], axis=1)\n",
    "\n",
    "tdf = df[df['y_pred'] != -1]\n",
    "\n",
    "cm = confusion_matrix(tdf['target'].values, tdf['y_pred'].values)\n",
    "\n",
    "df_cm = pd.DataFrame(cm, index = ['negative', 'positive'],\n",
    "                  columns = ['predicted negative', 'predicted positive'])\n",
    "\n",
    "\n",
    "fig, ax = plt.subplots(figsize=(15,10))\n",
    "sns.heatmap(df_cm, annot=True, fmt='g', cmap='GnBu', ax=ax)\n",
    "plt.yticks(np.arange(2)+0.5,['actual negative', 'actual positive'], va='center')\n",
    "plt.title('Confusion matrix without an uncertainty threshold')\n",
    "plt.show()"
   ]
  },
  {
   "cell_type": "markdown",
   "metadata": {},
   "source": [
    "# Mean TF-IDF per document"
   ]
  },
  {
   "cell_type": "code",
   "execution_count": null,
   "metadata": {},
   "outputs": [],
   "source": [
    "from sklearn.feature_extraction.text import TfidfVectorizer\n",
    "from sklearn.cluster import KMeans\n",
    "from keras.datasets import imdb"
   ]
  },
  {
   "cell_type": "code",
   "execution_count": null,
   "metadata": {},
   "outputs": [],
   "source": [
    "# reconstruct imdb reviews from the keras dataset\n",
    "\n",
    "# credits to:\n",
    "# https://gist.github.com/prinsherbert/92313f15fc814d6eed1e36ab4df1f92d \n",
    "\n",
    "word_to_index = imdb.get_word_index()\n",
    "index_to_word = [None] * (max(word_to_index.values()) + 1)\n",
    "\n",
    "for w, i in word_to_index.items():\n",
    "    index_to_word[i] = w\n",
    "    \n",
    "(X_train, y_train), _ = imdb.load_data()\n",
    "\n",
    "padding = 200\n",
    "\n",
    "for i, review in enumerate(X_train):\n",
    "    X_train[i] = review[:padding]\n",
    "\n",
    "X_train = [\n",
    "    ' '.join(\n",
    "        index_to_word[i]\n",
    "        for i in X_train[i]\n",
    "        if i < len(index_to_word)\n",
    "    ) for i in range(X_train.shape[0])\n",
    "]\n",
    "\n",
    "# X_test = [\n",
    "#     ' '.join(\n",
    "#         index_to_word[i]\n",
    "#         for i in X_test[i]\n",
    "#         if i < len(index_to_word)\n",
    "#     ) for i in range(X_test.shape[0])\n",
    "# ]"
   ]
  },
  {
   "cell_type": "code",
   "execution_count": null,
   "metadata": {},
   "outputs": [],
   "source": [
    "# calculate td-idf\n",
    "# vectorizer = TfidfVectorizer()\n",
    "vectorizer = TfidfVectorizer(stop_words='english')\n",
    "X_tfidf = vectorizer.fit_transform(X_train)"
   ]
  },
  {
   "cell_type": "code",
   "execution_count": null,
   "metadata": {},
   "outputs": [],
   "source": [
    "# compute the mean tf-idf per document\n",
    "tf_idf_avg = []\n",
    "for document in X_tfidf:\n",
    "    tf_idf_avg.append(document.mean())\n",
    "\n",
    "print(tf_idf_avg[:10])"
   ]
  },
  {
   "cell_type": "code",
   "execution_count": null,
   "metadata": {},
   "outputs": [],
   "source": [
    "# plot the tf-idf of the first n documents\n",
    "n = 50\n",
    "y = tf_idf_avg[:n]\n",
    "x = np.arange(n)\n",
    "fig, ax = plt.subplots()\n",
    "ax.bar(x, y)\n",
    "plt.xlabel('Document')\n",
    "plt.ylabel('tf-idf')\n",
    "plt.show()"
   ]
  },
  {
   "cell_type": "code",
   "execution_count": null,
   "metadata": {},
   "outputs": [],
   "source": [
    "# cluster the documents based on their tf-idf\n",
    "clusters=2\n",
    "model = KMeans(n_clusters=clusters, max_iter=100)\n",
    "model.fit(X_tfidf)"
   ]
  },
  {
   "cell_type": "code",
   "execution_count": null,
   "metadata": {},
   "outputs": [],
   "source": [
    "# put the results in a pandas dataframe\n",
    "results = pd.DataFrame({\n",
    "    'cluster': model.labels_\n",
    "})\n",
    "results.head()"
   ]
  },
  {
   "cell_type": "code",
   "execution_count": null,
   "metadata": {},
   "outputs": [],
   "source": [
    "order_centroids = model.cluster_centers_.argsort()[:, ::-1]\n",
    "terms = vectorizer.get_feature_names()\n",
    "\n",
    "for i in range(clusters):\n",
    "    print(\"Cluster %d:\" % i),\n",
    "    for ind in order_centroids[i, :10]:\n",
    "        print(\" %s\" % terms[ind])"
   ]
  },
  {
   "cell_type": "code",
   "execution_count": null,
   "metadata": {},
   "outputs": [],
   "source": [
    "test_1 = \"i liked the characters, it was a good movie\"\n",
    "print(\"test 1:\", test_1)\n",
    "test_1 = vectorizer.transform([test_1])\n",
    "predicted_1 = model.predict(test_1)\n",
    "print(\"prediction\", predicted_1)\n",
    "\n",
    "test_2 = \"bad, really bad, i hated it\"\n",
    "print(\"test 2:\", test_2)\n",
    "test_2 = vectorizer.transform([test_2])\n",
    "predicted_2 = model.predict(test_2)\n",
    "print(\"prediction\", predicted_2)"
   ]
  },
  {
   "cell_type": "markdown",
   "metadata": {},
   "source": [
    "# Document length"
   ]
  },
  {
   "cell_type": "code",
   "execution_count": null,
   "metadata": {},
   "outputs": [],
   "source": [
    "x = np.arange(len(X_train))\n",
    "y = []\n",
    "for review in X_train:\n",
    "    y.append(len(review.split()))\n",
    "\n",
    "fig, ax = plt.subplots()\n",
    "ax.bar(x, y)\n",
    "plt.xlabel('document')\n",
    "plt.ylabel('length')\n",
    "plt.show()"
   ]
  },
  {
   "cell_type": "code",
   "execution_count": null,
   "metadata": {},
   "outputs": [],
   "source": [
    "y = np.array(y)\n",
    "print(\"average length:\", y.mean())\n",
    "print(\"standard deviation:\", y.std())"
   ]
  }
 ],
 "metadata": {
  "hide_input": false,
  "kernelspec": {
   "display_name": "Python 3",
   "language": "python",
   "name": "python3"
  },
  "language_info": {
   "codemirror_mode": {
    "name": "ipython",
    "version": 3
   },
   "file_extension": ".py",
   "mimetype": "text/x-python",
   "name": "python",
   "nbconvert_exporter": "python",
   "pygments_lexer": "ipython3",
   "version": "3.6.8"
  },
  "toc": {
   "base_numbering": 1,
   "nav_menu": {},
   "number_sections": true,
   "sideBar": true,
   "skip_h1_title": false,
   "title_cell": "Table of Contents",
   "title_sidebar": "Contents",
   "toc_cell": false,
   "toc_position": {},
   "toc_section_display": true,
   "toc_window_display": false
  },
  "varInspector": {
   "cols": {
    "lenName": 16,
    "lenType": 16,
    "lenVar": 40
   },
   "kernels_config": {
    "python": {
     "delete_cmd_postfix": "",
     "delete_cmd_prefix": "del ",
     "library": "var_list.py",
     "varRefreshCmd": "print(var_dic_list())"
    },
    "r": {
     "delete_cmd_postfix": ") ",
     "delete_cmd_prefix": "rm(",
     "library": "var_list.r",
     "varRefreshCmd": "cat(var_dic_list()) "
    }
   },
   "types_to_exclude": [
    "module",
    "function",
    "builtin_function_or_method",
    "instance",
    "_Feature"
   ],
   "window_display": false
  }
 },
 "nbformat": 4,
 "nbformat_minor": 2
}

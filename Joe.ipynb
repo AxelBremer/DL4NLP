{
 "cells": [
  {
   "cell_type": "markdown",
   "metadata": {},
   "source": [
    "## Dataloading"
   ]
  },
  {
   "cell_type": "code",
   "execution_count": 1,
   "metadata": {
    "ExecuteTime": {
     "end_time": "2019-10-02T09:14:17.113978Z",
     "start_time": "2019-10-02T09:14:16.213639Z"
    }
   },
   "outputs": [],
   "source": [
    "import pandas as pd\n",
    "import seaborn as sns\n",
    "import matplotlib.pyplot as plt\n",
    "import numpy as np\n",
    "\n",
    "from ast import literal_eval\n",
    "from sklearn.metrics import confusion_matrix\n",
    "import seaborn as sns\n",
    "\n",
    "plt.rcParams.update({'font.size': 15})"
   ]
  },
  {
   "cell_type": "markdown",
   "metadata": {},
   "source": [
    "### Load data"
   ]
  },
  {
   "cell_type": "code",
   "execution_count": 2,
   "metadata": {
    "ExecuteTime": {
     "end_time": "2019-10-02T09:14:17.344620Z",
     "start_time": "2019-10-02T09:14:17.115384Z"
    }
   },
   "outputs": [
    {
     "data": {
      "text/html": [
       "<div>\n",
       "<style scoped>\n",
       "    .dataframe tbody tr th:only-of-type {\n",
       "        vertical-align: middle;\n",
       "    }\n",
       "\n",
       "    .dataframe tbody tr th {\n",
       "        vertical-align: top;\n",
       "    }\n",
       "\n",
       "    .dataframe thead th {\n",
       "        text-align: right;\n",
       "    }\n",
       "</style>\n",
       "<table border=\"1\" class=\"dataframe\">\n",
       "  <thead>\n",
       "    <tr style=\"text-align: right;\">\n",
       "      <th></th>\n",
       "      <th>target</th>\n",
       "      <th>mean0</th>\n",
       "      <th>std0</th>\n",
       "      <th>mean1</th>\n",
       "      <th>std1</th>\n",
       "      <th>text</th>\n",
       "    </tr>\n",
       "  </thead>\n",
       "  <tbody>\n",
       "    <tr>\n",
       "      <th>0</th>\n",
       "      <td>0</td>\n",
       "      <td>0.999086</td>\n",
       "      <td>0.000652</td>\n",
       "      <td>0.000914</td>\n",
       "      <td>0.000652</td>\n",
       "      <td>...</td>\n",
       "    </tr>\n",
       "    <tr>\n",
       "      <th>1</th>\n",
       "      <td>0</td>\n",
       "      <td>0.969981</td>\n",
       "      <td>0.012336</td>\n",
       "      <td>0.030019</td>\n",
       "      <td>0.012336</td>\n",
       "      <td>...</td>\n",
       "    </tr>\n",
       "    <tr>\n",
       "      <th>2</th>\n",
       "      <td>1</td>\n",
       "      <td>0.230962</td>\n",
       "      <td>0.083058</td>\n",
       "      <td>0.769038</td>\n",
       "      <td>0.083058</td>\n",
       "      <td>classics and is not only a &lt;UNK&gt; little 20 min...</td>\n",
       "    </tr>\n",
       "    <tr>\n",
       "      <th>3</th>\n",
       "      <td>0</td>\n",
       "      <td>0.982669</td>\n",
       "      <td>0.009936</td>\n",
       "      <td>0.017331</td>\n",
       "      <td>0.009936</td>\n",
       "      <td>&lt;UNK&gt; a nerd thing it's just an example of how...</td>\n",
       "    </tr>\n",
       "    <tr>\n",
       "      <th>4</th>\n",
       "      <td>1</td>\n",
       "      <td>0.135886</td>\n",
       "      <td>0.054573</td>\n",
       "      <td>0.864114</td>\n",
       "      <td>0.054573</td>\n",
       "      <td>&lt;UNK&gt; travels back towards the hospital but is...</td>\n",
       "    </tr>\n",
       "  </tbody>\n",
       "</table>\n",
       "</div>"
      ],
      "text/plain": [
       "   target     mean0      std0     mean1      std1  \\\n",
       "0       0  0.999086  0.000652  0.000914  0.000652   \n",
       "1       0  0.969981  0.012336  0.030019  0.012336   \n",
       "2       1  0.230962  0.083058  0.769038  0.083058   \n",
       "3       0  0.982669  0.009936  0.017331  0.009936   \n",
       "4       1  0.135886  0.054573  0.864114  0.054573   \n",
       "\n",
       "                                                text  \n",
       "0                                                ...  \n",
       "1                                                ...  \n",
       "2  classics and is not only a <UNK> little 20 min...  \n",
       "3  <UNK> a nerd thing it's just an example of how...  \n",
       "4  <UNK> travels back towards the hospital but is...  "
      ]
     },
     "metadata": {},
     "output_type": "display_data"
    }
   ],
   "source": [
    "df = pd.read_csv('results.csv', index_col=False)\n",
    "\n",
    "del df['Unnamed: 0']\n",
    "\n",
    "a = []\n",
    "\n",
    "df['target'] = df['target'].apply(literal_eval)\n",
    "joe = df['target'].values\n",
    "for v in joe:\n",
    "    a.append(np.array(v))\n",
    "joe = np.array(a).argmax(1)\n",
    "df['target'] = joe\n",
    "\n",
    "df['mean0'] = df['mean0'].astype('float64')\n",
    "df['std0'] = df['std0'].astype('float64')\n",
    "df['mean1'] = df['mean1'].astype('float64')\n",
    "df['std1'] = df['std1'].astype('float64')\n",
    "display(df.head())"
   ]
  },
  {
   "cell_type": "code",
   "execution_count": 3,
   "metadata": {
    "ExecuteTime": {
     "end_time": "2019-10-02T09:14:17.359939Z",
     "start_time": "2019-10-02T09:14:17.346024Z"
    }
   },
   "outputs": [
    {
     "data": {
      "text/plain": [
       "target      int64\n",
       "mean0     float64\n",
       "std0      float64\n",
       "mean1     float64\n",
       "std1      float64\n",
       "text       object\n",
       "dtype: object"
      ]
     },
     "execution_count": 3,
     "metadata": {},
     "output_type": "execute_result"
    }
   ],
   "source": [
    "df.dtypes"
   ]
  },
  {
   "cell_type": "code",
   "execution_count": 4,
   "metadata": {
    "ExecuteTime": {
     "end_time": "2019-10-02T09:14:17.375289Z",
     "start_time": "2019-10-02T09:14:17.361895Z"
    }
   },
   "outputs": [],
   "source": [
    "def classify(x, threshold):\n",
    "    mean = np.array([x['mean0'], x['mean1']])\n",
    "    std = np.array([x['std0'], x['std1']])\n",
    "    if (std[mean.argmax()] <= threshold):\n",
    "        return mean.argmax()\n",
    "    else:\n",
    "        return -1"
   ]
  },
  {
   "cell_type": "code",
   "execution_count": 5,
   "metadata": {
    "ExecuteTime": {
     "end_time": "2019-10-02T09:14:17.390664Z",
     "start_time": "2019-10-02T09:14:17.377272Z"
    }
   },
   "outputs": [
    {
     "data": {
      "text/plain": [
       "0.14538480546045815"
      ]
     },
     "execution_count": 5,
     "metadata": {},
     "output_type": "execute_result"
    }
   ],
   "source": [
    "df['std1'].max()"
   ]
  },
  {
   "cell_type": "code",
   "execution_count": 6,
   "metadata": {
    "ExecuteTime": {
     "end_time": "2019-10-02T09:14:25.154398Z",
     "start_time": "2019-10-02T09:14:17.392180Z"
    },
    "scrolled": true
   },
   "outputs": [
    {
     "name": "stderr",
     "output_type": "stream",
     "text": [
      "100%|██████████████████████████████████████████████████████████████████████████████████| 20/20 [00:07<00:00,  2.66it/s]\n"
     ]
    },
    {
     "data": {
      "text/plain": [
       "<matplotlib.legend.Legend at 0x28234c7f160>"
      ]
     },
     "execution_count": 6,
     "metadata": {},
     "output_type": "execute_result"
    },
    {
     "data": {
      "image/png": "[encoded data removed]",
      "text/plain": [
       "<Figure size 432x288 with 1 Axes>"
      ]
     },
     "metadata": {},
     "output_type": "display_data"
    }
   ],
   "source": [
    "from tqdm import tqdm\n",
    "\n",
    "sns.set_style('whitegrid')\n",
    "\n",
    "thresholds = list(np.arange(0,0.2,0.01))\n",
    "precisions = []\n",
    "recalls = []\n",
    "\n",
    "for t in tqdm(thresholds):\n",
    "    testdf = df\n",
    "    testdf['test'] = testdf.apply(classify, args=[t], axis=1)\n",
    "    certain = df[df['test']!=-1]\n",
    "#     print(len(certain))\n",
    "    precision = certain['target'] == certain['test']\n",
    "#     print('precision',precision.mean())\n",
    "    recall = df['target'] == df['test']\n",
    "#     print('recall',recall.mean())\n",
    "    precisions.append(precision.mean())\n",
    "    recalls.append(recall.mean())\n",
    "\n",
    "datf = pd.DataFrame({'threshold':thresholds[1:], 'precision':precisions[1:], 'recall':recalls[1:]})\n",
    "sns.lineplot(data=datf, x='threshold', y='precision')\n",
    "sns.lineplot(data=datf, x='threshold', y='recall')\n",
    "plt.title('Precision and Recall with uncertainty threshold')\n",
    "plt.legend(['precision','recall'])\n",
    "# plt.set_xlabel('confidence threshold')\n",
    "# plt.set_ylabel('precision/recall')"
   ]
  },
  {
   "cell_type": "code",
   "execution_count": 7,
   "metadata": {
    "ExecuteTime": {
     "end_time": "2019-10-02T09:14:25.169897Z",
     "start_time": "2019-10-02T09:14:25.156003Z"
    }
   },
   "outputs": [
    {
     "data": {
      "text/html": [
       "<div>\n",
       "<style scoped>\n",
       "    .dataframe tbody tr th:only-of-type {\n",
       "        vertical-align: middle;\n",
       "    }\n",
       "\n",
       "    .dataframe tbody tr th {\n",
       "        vertical-align: top;\n",
       "    }\n",
       "\n",
       "    .dataframe thead th {\n",
       "        text-align: right;\n",
       "    }\n",
       "</style>\n",
       "<table border=\"1\" class=\"dataframe\">\n",
       "  <thead>\n",
       "    <tr style=\"text-align: right;\">\n",
       "      <th></th>\n",
       "      <th>threshold</th>\n",
       "      <th>precision</th>\n",
       "      <th>recall</th>\n",
       "    </tr>\n",
       "  </thead>\n",
       "  <tbody>\n",
       "    <tr>\n",
       "      <th>0</th>\n",
       "      <td>0.01</td>\n",
       "      <td>0.989114</td>\n",
       "      <td>0.31984</td>\n",
       "    </tr>\n",
       "    <tr>\n",
       "      <th>1</th>\n",
       "      <td>0.02</td>\n",
       "      <td>0.981961</td>\n",
       "      <td>0.46160</td>\n",
       "    </tr>\n",
       "    <tr>\n",
       "      <th>2</th>\n",
       "      <td>0.03</td>\n",
       "      <td>0.973385</td>\n",
       "      <td>0.54712</td>\n",
       "    </tr>\n",
       "    <tr>\n",
       "      <th>3</th>\n",
       "      <td>0.04</td>\n",
       "      <td>0.964435</td>\n",
       "      <td>0.60960</td>\n",
       "    </tr>\n",
       "    <tr>\n",
       "      <th>4</th>\n",
       "      <td>0.05</td>\n",
       "      <td>0.957161</td>\n",
       "      <td>0.65600</td>\n",
       "    </tr>\n",
       "    <tr>\n",
       "      <th>5</th>\n",
       "      <td>0.06</td>\n",
       "      <td>0.947065</td>\n",
       "      <td>0.69704</td>\n",
       "    </tr>\n",
       "    <tr>\n",
       "      <th>6</th>\n",
       "      <td>0.07</td>\n",
       "      <td>0.933977</td>\n",
       "      <td>0.73560</td>\n",
       "    </tr>\n",
       "    <tr>\n",
       "      <th>7</th>\n",
       "      <td>0.08</td>\n",
       "      <td>0.921340</td>\n",
       "      <td>0.77680</td>\n",
       "    </tr>\n",
       "    <tr>\n",
       "      <th>8</th>\n",
       "      <td>0.09</td>\n",
       "      <td>0.904567</td>\n",
       "      <td>0.81288</td>\n",
       "    </tr>\n",
       "    <tr>\n",
       "      <th>9</th>\n",
       "      <td>0.10</td>\n",
       "      <td>0.886827</td>\n",
       "      <td>0.84504</td>\n",
       "    </tr>\n",
       "    <tr>\n",
       "      <th>10</th>\n",
       "      <td>0.11</td>\n",
       "      <td>0.876522</td>\n",
       "      <td>0.86376</td>\n",
       "    </tr>\n",
       "    <tr>\n",
       "      <th>11</th>\n",
       "      <td>0.12</td>\n",
       "      <td>0.873101</td>\n",
       "      <td>0.86912</td>\n",
       "    </tr>\n",
       "    <tr>\n",
       "      <th>12</th>\n",
       "      <td>0.13</td>\n",
       "      <td>0.871626</td>\n",
       "      <td>0.87072</td>\n",
       "    </tr>\n",
       "    <tr>\n",
       "      <th>13</th>\n",
       "      <td>0.14</td>\n",
       "      <td>0.871409</td>\n",
       "      <td>0.87120</td>\n",
       "    </tr>\n",
       "    <tr>\n",
       "      <th>14</th>\n",
       "      <td>0.15</td>\n",
       "      <td>0.871360</td>\n",
       "      <td>0.87136</td>\n",
       "    </tr>\n",
       "    <tr>\n",
       "      <th>15</th>\n",
       "      <td>0.16</td>\n",
       "      <td>0.871360</td>\n",
       "      <td>0.87136</td>\n",
       "    </tr>\n",
       "    <tr>\n",
       "      <th>16</th>\n",
       "      <td>0.17</td>\n",
       "      <td>0.871360</td>\n",
       "      <td>0.87136</td>\n",
       "    </tr>\n",
       "    <tr>\n",
       "      <th>17</th>\n",
       "      <td>0.18</td>\n",
       "      <td>0.871360</td>\n",
       "      <td>0.87136</td>\n",
       "    </tr>\n",
       "    <tr>\n",
       "      <th>18</th>\n",
       "      <td>0.19</td>\n",
       "      <td>0.871360</td>\n",
       "      <td>0.87136</td>\n",
       "    </tr>\n",
       "  </tbody>\n",
       "</table>\n",
       "</div>"
      ],
      "text/plain": [
       "    threshold  precision   recall\n",
       "0        0.01   0.989114  0.31984\n",
       "1        0.02   0.981961  0.46160\n",
       "2        0.03   0.973385  0.54712\n",
       "3        0.04   0.964435  0.60960\n",
       "4        0.05   0.957161  0.65600\n",
       "5        0.06   0.947065  0.69704\n",
       "6        0.07   0.933977  0.73560\n",
       "7        0.08   0.921340  0.77680\n",
       "8        0.09   0.904567  0.81288\n",
       "9        0.10   0.886827  0.84504\n",
       "10       0.11   0.876522  0.86376\n",
       "11       0.12   0.873101  0.86912\n",
       "12       0.13   0.871626  0.87072\n",
       "13       0.14   0.871409  0.87120\n",
       "14       0.15   0.871360  0.87136\n",
       "15       0.16   0.871360  0.87136\n",
       "16       0.17   0.871360  0.87136\n",
       "17       0.18   0.871360  0.87136\n",
       "18       0.19   0.871360  0.87136"
      ]
     },
     "execution_count": 7,
     "metadata": {},
     "output_type": "execute_result"
    }
   ],
   "source": [
    "datf"
   ]
  },
  {
   "cell_type": "code",
   "execution_count": 8,
   "metadata": {
    "ExecuteTime": {
     "end_time": "2019-10-02T09:14:25.185307Z",
     "start_time": "2019-10-02T09:14:25.171849Z"
    }
   },
   "outputs": [],
   "source": [
    "i = 0"
   ]
  },
  {
   "cell_type": "code",
   "execution_count": 30,
   "metadata": {
    "ExecuteTime": {
     "end_time": "2019-10-02T09:24:52.615623Z",
     "start_time": "2019-10-02T09:24:52.493025Z"
    }
   },
   "outputs": [
    {
     "name": "stdout",
     "output_type": "stream",
     "text": [
      "18\n",
      "<UNK> performance is enthusiastic but shaky as he carries off the stupid dialogue with the least amount of skill <UNK> has been the highlight of many a bad movie and this is no exception he easily gives the best performance of the movie although i'm compelled to add that the dog who's a pretty darn good actor himself comes in a close second br br all in all an <UNK> dumb movie and yet and yet i watched it three times within a week and yet i can't help liking it hey what can i say i have a taste for junk and michael <UNK> not that i've ever actually <UNK> michael <UNK> i'm sure there are laws against that but any movie that can make me laugh that hard yes even unintentionally can't be all bad <UNK> it up to a guilty pleasure a yes i know it's <UNK> stupid but i like it anyway movie br br it's tough for me to rate this on a normal scale i'm forced to give it a d but on my own personal cheese scale it gets <UNK> up to an a br br yeah i know i'm weird like that\n",
      "[0.1157381804216487] [0.11573818358097065]\n"
     ]
    },
    {
     "data": {
      "image/png": "[encoded data removed]",
      "text/plain": [
       "<Figure size 288x576 with 1 Axes>"
      ]
     },
     "metadata": {},
     "output_type": "display_data"
    }
   ],
   "source": [
    "print(i)\n",
    "s = df.iloc[i]\n",
    "print(s['text'])\n",
    "if s['target'] == 0:\n",
    "    colors = ['green', 'red']\n",
    "else:\n",
    "    colors = ['red', 'green']\n",
    "\n",
    "x_0 = [0]\n",
    "x_1 = [1]\n",
    "y_0 = [s['mean0']]\n",
    "y_1 = [s['mean1']]\n",
    "err_0 = [s['std0']*2]\n",
    "err_1 = [s['std1']*2]\n",
    "print(err_0, err_1)\n",
    "plt.figure(figsize=(4,8))\n",
    "plt.errorbar(x_0, y_0, yerr=err_0, fmt='o', capsize=8, color=colors[0])\n",
    "plt.errorbar(x_1, y_1, yerr=err_1, fmt='o', capsize=8, color=colors[1])\n",
    "\n",
    "plt.xticks([0, 1], ['negative', 'positive'])\n",
    "plt.ylim([0,1])\n",
    "plt.xlim([-0.5, 1.5])\n",
    "plt.xlabel('Class')\n",
    "plt.ylabel('Probability')\n",
    "\n",
    "i += 1"
   ]
  },
  {
   "cell_type": "code",
   "execution_count": 10,
   "metadata": {
    "ExecuteTime": {
     "end_time": "2019-10-02T09:14:25.831514Z",
     "start_time": "2019-10-02T09:14:25.309738Z"
    }
   },
   "outputs": [
    {
     "data": {
      "image/png": "[encoded data removed]",
      "text/plain": [
       "<Figure size 720x504 with 2 Axes>"
      ]
     },
     "metadata": {},
     "output_type": "display_data"
    }
   ],
   "source": [
    "df['y_pred'] = df.apply(classify, args=[0.075], axis=1)\n",
    "\n",
    "tdf = df[df['y_pred'] != -1]\n",
    "\n",
    "cm = confusion_matrix(tdf['target'].values, tdf['y_pred'].values)\n",
    "\n",
    "df_cm = pd.DataFrame(cm, index = ['negative', 'positive'],\n",
    "                  columns = ['predicted negative', 'predicted positive'])\n",
    "plt.figure(figsize = (10,7))\n",
    "sns.heatmap(df_cm, annot=True, fmt='g', cmap='GnBu')\n",
    "plt.yticks(np.arange(2)+0.5,['actual negative', 'actual positive'], va='center')\n",
    "plt.show()"
   ]
  },
  {
   "cell_type": "code",
   "execution_count": 12,
   "metadata": {
    "ExecuteTime": {
     "end_time": "2019-10-02T09:16:41.777620Z",
     "start_time": "2019-10-02T09:16:41.251806Z"
    }
   },
   "outputs": [
    {
     "data": {
      "image/png": "[encoded data removed]",
      "text/plain": [
       "<Figure size 720x504 with 2 Axes>"
      ]
     },
     "metadata": {},
     "output_type": "display_data"
    }
   ],
   "source": [
    "df['y_pred'] = df.apply(classify, args=[1], axis=1)\n",
    "\n",
    "tdf = df[df['y_pred'] != -1]\n",
    "\n",
    "cm = confusion_matrix(tdf['target'].values, tdf['y_pred'].values)\n",
    "\n",
    "df_cm = pd.DataFrame(cm, index = ['negative', 'positive'],\n",
    "                  columns = ['predicted negative', 'predicted positive'])\n",
    "plt.figure(figsize = (10,7))\n",
    "sns.heatmap(df_cm, annot=True, fmt='g', cmap='GnBu')\n",
    "plt.yticks(np.arange(2)+0.5,['actual negative', 'actual positive'], va='center')\n",
    "plt.title('Confusion matrix without uncertainty threshold')\n",
    "plt.show()"
   ]
  },
  {
   "cell_type": "code",
   "execution_count": null,
   "metadata": {},
   "outputs": [],
   "source": []
  }
 ],
 "metadata": {
  "hide_input": false,
  "kernelspec": {
   "display_name": "Python 3",
   "language": "python",
   "name": "python3"
  },
  "language_info": {
   "codemirror_mode": {
    "name": "ipython",
    "version": 3
   },
   "file_extension": ".py",
   "mimetype": "text/x-python",
   "name": "python",
   "nbconvert_exporter": "python",
   "pygments_lexer": "ipython3",
   "version": "3.6.8"
  },
  "toc": {
   "base_numbering": 1,
   "nav_menu": {},
   "number_sections": true,
   "sideBar": true,
   "skip_h1_title": false,
   "title_cell": "Table of Contents",
   "title_sidebar": "Contents",
   "toc_cell": false,
   "toc_position": {},
   "toc_section_display": true,
   "toc_window_display": false
  },
  "varInspector": {
   "cols": {
    "lenName": 16,
    "lenType": 16,
    "lenVar": 40
   },
   "kernels_config": {
    "python": {
     "delete_cmd_postfix": "",
     "delete_cmd_prefix": "del ",
     "library": "var_list.py",
     "varRefreshCmd": "print(var_dic_list())"
    },
    "r": {
     "delete_cmd_postfix": ") ",
     "delete_cmd_prefix": "rm(",
     "library": "var_list.r",
     "varRefreshCmd": "cat(var_dic_list()) "
    }
   },
   "types_to_exclude": [
    "module",
    "function",
    "builtin_function_or_method",
    "instance",
    "_Feature"
   ],
   "window_display": false
  }
 },
 "nbformat": 4,
 "nbformat_minor": 2
}
